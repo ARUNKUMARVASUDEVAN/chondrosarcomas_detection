{
 "cells": [
  {
   "cell_type": "code",
   "execution_count": 1,
   "metadata": {},
   "outputs": [],
   "source": [
    "import os"
   ]
  },
  {
   "cell_type": "code",
   "execution_count": 2,
   "metadata": {},
   "outputs": [
    {
     "data": {
      "text/plain": [
       "'d:\\\\chondrosarcomas_detection\\\\research'"
      ]
     },
     "execution_count": 2,
     "metadata": {},
     "output_type": "execute_result"
    }
   ],
   "source": [
    "%pwd"
   ]
  },
  {
   "cell_type": "code",
   "execution_count": 3,
   "metadata": {},
   "outputs": [],
   "source": [
    "os.chdir(\"../\")"
   ]
  },
  {
   "cell_type": "code",
   "execution_count": 4,
   "metadata": {},
   "outputs": [
    {
     "data": {
      "text/plain": [
       "'d:\\\\chondrosarcomas_detection'"
      ]
     },
     "execution_count": 4,
     "metadata": {},
     "output_type": "execute_result"
    }
   ],
   "source": [
    "%pwd"
   ]
  },
  {
   "cell_type": "code",
   "execution_count": 24,
   "metadata": {},
   "outputs": [],
   "source": [
    "from dataclasses import dataclass\n",
    "from pathlib import Path\n",
    "\n",
    "@dataclass(frozen=True)\n",
    "class TrainingConfig:\n",
    "    root_dir: Path\n",
    "    trained_model_path: Path\n",
    "    updated_base_model_path: Path\n",
    "    training_data: Path\n",
    "    params_epochs: int\n",
    "    params_batch_size: int\n",
    "    params_is_augmentation: bool\n",
    "    params_image_size: list"
   ]
  },
  {
   "cell_type": "code",
   "execution_count": 25,
   "metadata": {},
   "outputs": [],
   "source": [
    "from chondrosarcomas_detection.constants import *\n",
    "from chondrosarcomas_detection.utils.common import read_yaml,create_directories"
   ]
  },
  {
   "cell_type": "code",
   "execution_count": 26,
   "metadata": {},
   "outputs": [],
   "source": [
    "class ConfigurationManager:\n",
    "    def __init__(\n",
    "            self,\n",
    "            config_filepath =CONFIG_FILE_PATH,\n",
    "            params_filepath =PARAMS_FILE_PATH):\n",
    "            \n",
    "            self.config= read_yaml(config_filepath)\n",
    "            self.params = read_yaml(params_filepath)\n",
    "            create_directories([self.config.artifacts_root])\n",
    "\n",
    "    def get_training_config(self) -> TrainingConfig:\n",
    "        training = self.config.training\n",
    "        prepare_base_model = self.config.prepare_base_model\n",
    "        params = self.params\n",
    "        training_data = os.path.join(self.config.data_ingestion.unzip_dir, \"Chest-CT-Scan-data\")\n",
    "        create_directories([\n",
    "            Path(training.root_dir)\n",
    "        ])\n",
    "\n",
    "        training_config = TrainingConfig(\n",
    "            root_dir=Path(training.root_dir),\n",
    "            trained_model_path=Path(training.trained_model_path),\n",
    "            updated_base_model_path=Path(prepare_base_model.updated_base_model_path),\n",
    "            training_data=Path(training_data),\n",
    "            params_epochs=params.EPOCHS,\n",
    "            params_batch_size=params.BATCH_SIZE,\n",
    "            params_is_augmentation=params.AUGMENTATION,\n",
    "            params_image_size=params.IMAGE_SIZE\n",
    "        )\n",
    "\n",
    "        return training_config"
   ]
  },
  {
   "cell_type": "code",
   "execution_count": 27,
   "metadata": {},
   "outputs": [],
   "source": [
    "import os\n",
    "import urllib.request as request\n",
    "from zipfile import ZipFile\n",
    "import tensorflow as tf\n",
    "import time\n"
   ]
  },
  {
   "cell_type": "code",
   "execution_count": 30,
   "metadata": {},
   "outputs": [],
   "source": [
    "class Training:\n",
    "    def __init__(self, config: TrainingConfig):\n",
    "        self.config =config\n",
    "\n",
    "    def get_base_model(self):\n",
    "        self.model =tf.keras.models.load_model(\n",
    "            self.config.updated_base_model_path\n",
    "        )\n",
    "    \n",
    "    def train_valid_generator(self):\n",
    "        datagenerator_kwargs = dict(\n",
    "            rescale=1./255,\n",
    "            validation_split=0.20\n",
    "        )\n",
    "        dataflow_kwargs = dict(\n",
    "            target_size=self.config.params_image_size[:-1],\n",
    "            batch_size=self.config.params_batch_size,\n",
    "            interpolation=\"bilinear\"\n",
    "        )\n",
    "\n",
    "        valid_datagenerator=tf.keras.preprocessing.image.ImageDataGenerator(\n",
    "            **datagenerator_kwargs\n",
    "        )\n",
    "\n",
    "        self.valid_generator =valid_datagenerator.flow_from_directory(\n",
    "            directory= self.config.training_data,\n",
    "            subset=\"validation\",\n",
    "            shuffle=False,\n",
    "            **dataflow_kwargs\n",
    "        )\n",
    "\n",
    "        if self.config.params_is_augmentation:\n",
    "            train_datagenerator=tf.keras.preprocessing.image.ImageDataGenerator(\n",
    "                rotation_range=40,\n",
    "                horizontal_flip=True,\n",
    "                width_shift_range=0.2,\n",
    "                height_shift_range=0.2,\n",
    "                shear_range=0.2,\n",
    "                zoom_range=0.2,\n",
    "                **datagenerator_kwargs\n",
    "\n",
    "            )\n",
    "        else:\n",
    "            train_datagenerator=valid_datagenerator\n",
    "        self.train_generator = train_datagenerator.flow_from_directory(\n",
    "            directory=self.config.training_data,\n",
    "            subset=\"training\",\n",
    "            shuffle=True,\n",
    "            **dataflow_kwargs\n",
    "        )\n",
    "\n",
    "    @staticmethod\n",
    "    def save_model(path: Path,model: tf.keras.Model):\n",
    "        model.save(path)\n",
    "\n",
    "    def train(self):\n",
    "        self.steps_per_epoch = self.train_generator.samples // self.train_generator.batch_size\n",
    "        self.validation_steps = self.valid_generator.samples // self.valid_generator.batch_size\n",
    "\n",
    "        self.model.fit(\n",
    "            self.train_generator,\n",
    "            epochs=self.config.params_epochs,\n",
    "            steps_per_epoch=self.validation_steps,\n",
    "            validation_steps=self.validation_steps,\n",
    "            validation_data =self.valid_generator\n",
    "        )\n",
    "\n",
    "        self.save_model(\n",
    "            path=self.config.trained_model_path,\n",
    "            model=self.model\n",
    "        )\n",
    "\n"
   ]
  },
  {
   "cell_type": "code",
   "execution_count": 31,
   "metadata": {},
   "outputs": [
    {
     "name": "stdout",
     "output_type": "stream",
     "text": [
      "[2023-12-30 10:46:09,617: INFO:common:yaml file:config\\config.yaml loaded succesfully]\n",
      "[2023-12-30 10:46:09,627: INFO:common:yaml file:params.yaml loaded succesfully]\n",
      "[2023-12-30 10:46:09,633: INFO:common:created directory at :artifacts]\n",
      "[2023-12-30 10:46:09,635: INFO:common:created directory at :artifacts\\training]\n",
      "Found 68 images belonging to 2 classes.\n",
      "Found 275 images belonging to 2 classes.\n",
      "Epoch 1/50\n",
      "4/4 [==============================] - 8s 2s/step - loss: 23.1427 - accuracy: 0.3594 - val_loss: 18.9811 - val_accuracy: 0.6094\n",
      "Epoch 2/50\n",
      "4/4 [==============================] - 7s 2s/step - loss: 12.3335 - accuracy: 0.5882 - val_loss: 9.6586 - val_accuracy: 0.3906\n",
      "Epoch 3/50\n",
      "4/4 [==============================] - 8s 2s/step - loss: 7.0127 - accuracy: 0.7031 - val_loss: 7.3404 - val_accuracy: 0.3906\n",
      "Epoch 4/50\n",
      "4/4 [==============================] - 7s 2s/step - loss: 13.1301 - accuracy: 0.5490 - val_loss: 5.2945 - val_accuracy: 0.6094\n",
      "Epoch 5/50\n",
      "4/4 [==============================] - 8s 2s/step - loss: 17.5026 - accuracy: 0.5000 - val_loss: 14.7458 - val_accuracy: 0.3906\n",
      "Epoch 6/50\n",
      "4/4 [==============================] - 8s 2s/step - loss: 13.6257 - accuracy: 0.5469 - val_loss: 7.2215 - val_accuracy: 0.6094\n",
      "Epoch 7/50\n",
      "4/4 [==============================] - 8s 2s/step - loss: 16.0140 - accuracy: 0.4706 - val_loss: 33.9348 - val_accuracy: 0.6094\n",
      "Epoch 8/50\n",
      "4/4 [==============================] - 7s 2s/step - loss: 21.2469 - accuracy: 0.7059 - val_loss: 11.4440 - val_accuracy: 0.3906\n",
      "Epoch 9/50\n",
      "4/4 [==============================] - 8s 2s/step - loss: 13.5230 - accuracy: 0.5469 - val_loss: 0.0167 - val_accuracy: 0.9844\n",
      "Epoch 10/50\n",
      "4/4 [==============================] - 8s 2s/step - loss: 6.2314 - accuracy: 0.6250 - val_loss: 0.0197 - val_accuracy: 0.9844\n",
      "Epoch 11/50\n",
      "4/4 [==============================] - 8s 2s/step - loss: 12.8332 - accuracy: 0.5312 - val_loss: 25.4593 - val_accuracy: 0.3906\n",
      "Epoch 12/50\n",
      "4/4 [==============================] - 8s 2s/step - loss: 20.0323 - accuracy: 0.4531 - val_loss: 0.0636 - val_accuracy: 1.0000\n",
      "Epoch 13/50\n",
      "4/4 [==============================] - 8s 2s/step - loss: 4.0310 - accuracy: 0.7500 - val_loss: 0.2161 - val_accuracy: 0.8750\n",
      "Epoch 14/50\n",
      "4/4 [==============================] - 7s 2s/step - loss: 0.9826 - accuracy: 0.8235 - val_loss: 2.2805 - val_accuracy: 0.6250\n",
      "Epoch 15/50\n",
      "4/4 [==============================] - 7s 2s/step - loss: 20.5097 - accuracy: 0.4314 - val_loss: 0.5461 - val_accuracy: 0.8281\n",
      "Epoch 16/50\n",
      "4/4 [==============================] - 8s 2s/step - loss: 0.6801 - accuracy: 0.8750 - val_loss: 0.0016 - val_accuracy: 1.0000\n",
      "Epoch 17/50\n",
      "4/4 [==============================] - 8s 2s/step - loss: 1.4325 - accuracy: 0.7500 - val_loss: 1.7529 - val_accuracy: 0.6875\n",
      "Epoch 18/50\n",
      "4/4 [==============================] - 8s 2s/step - loss: 8.3175 - accuracy: 0.5938 - val_loss: 0.0014 - val_accuracy: 1.0000\n",
      "Epoch 19/50\n",
      "4/4 [==============================] - 8s 2s/step - loss: 2.0308 - accuracy: 0.7656 - val_loss: 2.3959 - val_accuracy: 0.8594\n",
      "Epoch 20/50\n",
      "4/4 [==============================] - 7s 2s/step - loss: 5.3847 - accuracy: 0.6275 - val_loss: 20.6421 - val_accuracy: 0.3906\n",
      "Epoch 21/50\n",
      "4/4 [==============================] - 8s 2s/step - loss: 6.3679 - accuracy: 0.7059 - val_loss: 1.5696 - val_accuracy: 0.8750\n",
      "Epoch 22/50\n",
      "4/4 [==============================] - 8s 2s/step - loss: 5.7290 - accuracy: 0.6875 - val_loss: 0.0331 - val_accuracy: 1.0000\n",
      "Epoch 23/50\n",
      "4/4 [==============================] - 8s 2s/step - loss: 2.0303 - accuracy: 0.7969 - val_loss: 0.0067 - val_accuracy: 1.0000\n",
      "Epoch 24/50\n",
      "4/4 [==============================] - 9s 3s/step - loss: 2.7564 - accuracy: 0.7969 - val_loss: 2.1099 - val_accuracy: 0.8594\n",
      "Epoch 25/50\n",
      "4/4 [==============================] - 8s 2s/step - loss: 1.2034 - accuracy: 0.8750 - val_loss: 0.1357 - val_accuracy: 0.8750\n",
      "Epoch 26/50\n",
      "4/4 [==============================] - 8s 2s/step - loss: 1.2272 - accuracy: 0.8281 - val_loss: 0.0877 - val_accuracy: 0.9844\n",
      "Epoch 27/50\n",
      "4/4 [==============================] - 7s 2s/step - loss: 0.9732 - accuracy: 0.9216 - val_loss: 0.0800 - val_accuracy: 0.9688\n",
      "Epoch 28/50\n",
      "4/4 [==============================] - 8s 2s/step - loss: 0.4686 - accuracy: 0.9375 - val_loss: 0.0081 - val_accuracy: 1.0000\n",
      "Epoch 29/50\n",
      "4/4 [==============================] - 8s 2s/step - loss: 0.6534 - accuracy: 0.8594 - val_loss: 1.0933 - val_accuracy: 0.7812\n",
      "Epoch 30/50\n",
      "4/4 [==============================] - 8s 2s/step - loss: 3.9125 - accuracy: 0.6875 - val_loss: 5.6837e-04 - val_accuracy: 1.0000\n",
      "Epoch 31/50\n",
      "4/4 [==============================] - 8s 2s/step - loss: 1.5497 - accuracy: 0.8125 - val_loss: 7.7905 - val_accuracy: 0.4219\n",
      "Epoch 32/50\n",
      "4/4 [==============================] - 7s 2s/step - loss: 1.7621 - accuracy: 0.8824 - val_loss: 0.0825 - val_accuracy: 0.9844\n",
      "Epoch 33/50\n",
      "4/4 [==============================] - 8s 2s/step - loss: 0.9525 - accuracy: 0.8750 - val_loss: 1.2830 - val_accuracy: 0.7656\n",
      "Epoch 34/50\n",
      "4/4 [==============================] - 8s 2s/step - loss: 10.5044 - accuracy: 0.5312 - val_loss: 0.0750 - val_accuracy: 0.9844\n",
      "Epoch 35/50\n",
      "4/4 [==============================] - 8s 2s/step - loss: 1.5588 - accuracy: 0.8438 - val_loss: 0.1411 - val_accuracy: 0.9688\n",
      "Epoch 36/50\n",
      "4/4 [==============================] - 8s 2s/step - loss: 1.8478 - accuracy: 0.8125 - val_loss: 2.0062 - val_accuracy: 0.8594\n",
      "Epoch 37/50\n",
      "4/4 [==============================] - 8s 2s/step - loss: 2.4029 - accuracy: 0.7656 - val_loss: 4.8535 - val_accuracy: 0.5625\n",
      "Epoch 38/50\n",
      "4/4 [==============================] - 7s 2s/step - loss: 7.1957 - accuracy: 0.6471 - val_loss: 9.3366e-05 - val_accuracy: 1.0000\n",
      "Epoch 39/50\n",
      "4/4 [==============================] - 8s 2s/step - loss: 0.2050 - accuracy: 0.9219 - val_loss: 7.3689e-05 - val_accuracy: 1.0000\n",
      "Epoch 40/50\n",
      "4/4 [==============================] - 8s 2s/step - loss: 0.6950 - accuracy: 0.8750 - val_loss: 0.0323 - val_accuracy: 0.9844\n",
      "Epoch 41/50\n",
      "4/4 [==============================] - 8s 2s/step - loss: 1.6715 - accuracy: 0.8235 - val_loss: 6.8819 - val_accuracy: 0.4531\n",
      "Epoch 42/50\n",
      "4/4 [==============================] - 8s 2s/step - loss: 7.4033 - accuracy: 0.5781 - val_loss: 0.0686 - val_accuracy: 0.9844\n",
      "Epoch 43/50\n",
      "4/4 [==============================] - 7s 2s/step - loss: 0.3867 - accuracy: 0.9216 - val_loss: 0.0551 - val_accuracy: 0.9844\n",
      "Epoch 44/50\n",
      "4/4 [==============================] - 8s 2s/step - loss: 0.6881 - accuracy: 0.8750 - val_loss: 0.0328 - val_accuracy: 0.9844\n",
      "Epoch 45/50\n",
      "4/4 [==============================] - 9s 2s/step - loss: 0.6825 - accuracy: 0.9375 - val_loss: 0.0897 - val_accuracy: 0.9375\n",
      "Epoch 46/50\n",
      "4/4 [==============================] - 8s 2s/step - loss: 0.7147 - accuracy: 0.9531 - val_loss: 1.5126e-04 - val_accuracy: 1.0000\n",
      "Epoch 47/50\n",
      "4/4 [==============================] - 8s 2s/step - loss: 1.0926 - accuracy: 0.7969 - val_loss: 0.4804 - val_accuracy: 0.8906\n",
      "Epoch 48/50\n",
      "4/4 [==============================] - 8s 2s/step - loss: 0.7190 - accuracy: 0.9688 - val_loss: 8.2287e-05 - val_accuracy: 1.0000\n",
      "Epoch 49/50\n",
      "4/4 [==============================] - 9s 3s/step - loss: 0.4962 - accuracy: 0.9062 - val_loss: 0.0648 - val_accuracy: 0.9844\n",
      "Epoch 50/50\n",
      "4/4 [==============================] - 8s 2s/step - loss: 0.8157 - accuracy: 0.8906 - val_loss: 1.7713e-04 - val_accuracy: 1.0000\n"
     ]
    }
   ],
   "source": [
    "try:\n",
    "    config = ConfigurationManager()\n",
    "    training_config = config.get_training_config()\n",
    "    training = Training(config=training_config)\n",
    "    training.get_base_model()\n",
    "    training.train_valid_generator()\n",
    "    training.train()\n",
    "    \n",
    "except Exception as e:\n",
    "    raise e"
   ]
  },
  {
   "cell_type": "code",
   "execution_count": null,
   "metadata": {},
   "outputs": [],
   "source": []
  }
 ],
 "metadata": {
  "kernelspec": {
   "display_name": "Python 3",
   "language": "python",
   "name": "python3"
  },
  "language_info": {
   "codemirror_mode": {
    "name": "ipython",
    "version": 3
   },
   "file_extension": ".py",
   "mimetype": "text/x-python",
   "name": "python",
   "nbconvert_exporter": "python",
   "pygments_lexer": "ipython3",
   "version": "3.8.0"
  },
  "orig_nbformat": 4
 },
 "nbformat": 4,
 "nbformat_minor": 2
}
